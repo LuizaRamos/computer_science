{
  "nbformat": 4,
  "nbformat_minor": 0,
  "metadata": {
    "colab": {
      "provenance": [],
      "authorship_tag": "ABX9TyN3Qf90mOBpzXba+ZxBWF9k",
      "include_colab_link": true
    },
    "kernelspec": {
      "name": "python3",
      "display_name": "Python 3"
    },
    "language_info": {
      "name": "python"
    }
  },
  "cells": [
    {
      "cell_type": "markdown",
      "metadata": {
        "id": "view-in-github",
        "colab_type": "text"
      },
      "source": [
        "<a href=\"https://colab.research.google.com/github/LuizaRamos/computer_science/blob/main/Shellsort.ipynb\" target=\"_parent\"><img src=\"https://colab.research.google.com/assets/colab-badge.svg\" alt=\"Open In Colab\"/></a>"
      ]
    },
    {
      "cell_type": "code",
      "execution_count": 7,
      "metadata": {
        "colab": {
          "base_uri": "https://localhost:8080/"
        },
        "id": "NB-0v5pM-L5Q",
        "outputId": "a1a6876e-651f-46b9-ae2e-e92d09f5f58c"
      },
      "outputs": [
        {
          "output_type": "stream",
          "name": "stdout",
          "text": [
            "[1, 2, 3, 4, 5, 8]\n",
            "[2, 3, 8]\n",
            "[1, 2, 3, 5, 6, 7, 8, 9, 11, 17]\n",
            "[1, 2, 3, 4, 5, 8, 10, 15, 16, 19, 20, 30]\n"
          ]
        }
      ],
      "source": [
        "# One of the simplest sorting methods is insertion sort.\n",
        "# Program the first algorithm at https://en.wikipedia.org/wiki/Insertion_sort#Algorithm.\n",
        "# Use pairwise assignment (x,y) = (y,x) to swape in the 5th line of the algorith.\n",
        "\n",
        "#Test the program at https://pythontutor.com/\n",
        "\n",
        "def insertSort(A):\n",
        "  i = 0\n",
        "  while i < len(A):\n",
        "    j = i\n",
        "    while j > 0 and A[j] < A[j-1]:\n",
        "      A[j], A[j - 1] = A[j - 1], A[j]\n",
        "      j -= 1\n",
        "    i += 1\n",
        "\n",
        "\n",
        "if __name__ == '__main__':\n",
        "  x0 = [3, 8, 1, 2, 5, 4]\n",
        "  x1 = [8, 3, 2]\n",
        "  x2 = [8, 5, 17, 9, 6, 2, 1, 7, 11, 3]\n",
        "  x3 = [3, 8, 1, 2, 5, 4, 15, 19, 20, 30, 10, 16]\n",
        "\n",
        "  insertSort(x0)\n",
        "  insertSort(x1)\n",
        "  insertSort(x2)\n",
        "  insertSort(x3)\n",
        "\n",
        "  print(x0)\n",
        "  print(x1)\n",
        "  print(x2)\n",
        "  print(x3)"
      ]
    },
    {
      "cell_type": "code",
      "source": [
        "# Build on the algorithm described by Donald L Shell, that consists of:\n",
        "# 1. divide the elements into smaller subsets;\n",
        "# 2. sort the subsets using insertion sort;\n",
        "# 3. reapeat steps 1 and 2 until the list is sorted.\n",
        "\n",
        "def shellsort(A):\n",
        "  # gap is the size of the subsets\n",
        "  gap = len(A)//2\n",
        "\n",
        "  while gap > 0:               # ensure tha gap goes down to 1 and stops than.\n",
        "    i = gap                    # Attributes gap to an index\n",
        "\n",
        "    # iterates over all elements from i to the end of the array\n",
        "    # moving from left to right / middle to end\n",
        "    while i < len(A):\n",
        "      j = i - gap              # new index, spaced a gap from i\n",
        "\n",
        "      # iterates from a specific point (i) to the the beging of the array\n",
        "      # moves from right to left / middle to begining.\n",
        "      while j >= 0:\n",
        "        if A[j] < A[j + gap]:  # Stops process if the values in the next pairs\n",
        "          break                # are in the correct order\n",
        "        else:\n",
        "          # swicth the pare position as in the insertionsort\n",
        "          A[j], A[j + gap] = A[j + gap], A[j]\n",
        "        j -= gap\n",
        "      i += 1\n",
        "    gap //= 2\n",
        "\n",
        "if __name__ == '__main__':\n",
        "  x0 = [3, 8, 1, 2, 5, 4]\n",
        "  x1 = [8, 3, 2]\n",
        "  x2 = [8, 5, 17, 9, 6, 2, 1, 7, 11, 3]\n",
        "  x3 = [3, 8, 1, 2, 5, 4, 15, 19, 20, 30, 10, 16]\n",
        "\n",
        "  shellsort(x0)\n",
        "  shellsort(x1)\n",
        "  shellsort(x2)\n",
        "  shellsort(x3)\n",
        "\n",
        "  print(x0)\n",
        "  print(x1)\n",
        "  print(x2)\n",
        "  print(x3)"
      ],
      "metadata": {
        "colab": {
          "base_uri": "https://localhost:8080/"
        },
        "id": "9AXmXyE_Ypu5",
        "outputId": "1b0b94a9-fad7-4cf6-a0b0-bfa3da29334b"
      },
      "execution_count": null,
      "outputs": [
        {
          "output_type": "stream",
          "name": "stdout",
          "text": [
            "[1, 2, 3, 4, 5, 8]\n",
            "[2, 3, 8]\n",
            "[1, 2, 3, 5, 6, 7, 8, 9, 11, 17]\n",
            "[1, 2, 3, 4, 5, 8, 10, 15, 16, 19, 20, 30]\n"
          ]
        }
      ]
    },
    {
      "cell_type": "code",
      "source": [
        "# Using the insertion sort algorithm previous wrote\n",
        "\n",
        "def shellsort2(A):\n",
        "  size = len(A)\n",
        "  gap = size // 2\n",
        "\n",
        "  while gap > 0:               # ensure tha gap goes down to 1 and stops than.\n",
        "    i = gap                    # Attributes gap to an index\n",
        "    while i < len(A):\n",
        "      j = i - gap              # new index, spaced a gap from i\n",
        "      while j >= 0:\n",
        "        A[j:i] = insertSort(A[j:i])\n",
        "        j -= gap\n",
        "      i += 1\n",
        "    gap //= 2\n",
        "\n",
        "if __name__ == '__main__':\n",
        "  x0 = [3, 8, 1, 2, 5, 4]\n",
        "  x1 = [8, 3, 2]\n",
        "  x2 = [8, 5, 17, 9, 6, 2, 1, 7, 11, 3]\n",
        "  x3 = [3, 8, 1, 2, 5, 4, 15, 19, 20, 30, 10, 16]\n",
        "\n",
        "  shellsort(x0)\n",
        "  shellsort(x1)\n",
        "  shellsort(x2)\n",
        "  shellsort(x3)\n",
        "\n",
        "  print(x0)\n",
        "  print(x1)\n",
        "  print(x2)\n",
        "  print(x3)"
      ],
      "metadata": {
        "colab": {
          "base_uri": "https://localhost:8080/"
        },
        "id": "QcsXOjYXF2yo",
        "outputId": "a5b81047-a97c-4c48-95a1-4108865bdabd"
      },
      "execution_count": null,
      "outputs": [
        {
          "output_type": "stream",
          "name": "stdout",
          "text": [
            "[1, 2, 3, 4, 5, 8]\n",
            "[2, 3, 8]\n",
            "[1, 2, 3, 5, 6, 7, 8, 9, 11, 17]\n",
            "[1, 2, 3, 4, 5, 8, 10, 15, 16, 19, 20, 30]\n"
          ]
        }
      ]
    },
    {
      "cell_type": "code",
      "source": [
        "# Using recursion\n",
        "\n",
        "def recursive_shell_sort(A, n=None, gap=None):\n",
        "    # Initialise the length of the array and the initial gap\n",
        "    if n is None:\n",
        "        n = len(A)\n",
        "    if gap is None:\n",
        "        gap = n // 2\n",
        "\n",
        "    if gap > 0:\n",
        "        for i in range(gap, n):\n",
        "            temp = A[i]\n",
        "            j = i\n",
        "            # Swap earlier gap-sorted elements up until the correct location for A[i] is found\n",
        "            while j >= gap and A[j - gap] > temp:\n",
        "                A[j], A[j - gap] = A[j - gap], A[j]\n",
        "                j -= gap\n",
        "\n",
        "        # Call the function recursively with a smaller gap\n",
        "        recursive_shell_sort(A, n, gap // 2)\n",
        "    return A\n",
        "\n",
        "# Example usage:\n",
        "if __name__ == '__main__':\n",
        "  x0 = [3, 8, 1, 2, 5, 4]\n",
        "  x1 = [8, 3, 2]\n",
        "  x2 = [8, 5, 17, 9, 6, 2, 1, 7, 11, 3]\n",
        "  x3 = [3, 8, 1, 2, 5, 4, 15, 19, 20, 30, 10, 16]\n",
        "\n",
        "  a0 = recursive_shell_sort(x0)\n",
        "  a1 = recursive_shell_sort(x1)\n",
        "  a2 = recursive_shell_sort(x2)\n",
        "  a3 = recursive_shell_sort(x3)\n",
        "\n",
        "  print(a0)\n",
        "  print(a1)\n",
        "  print(a2)\n",
        "  print(a3)\n"
      ],
      "metadata": {
        "id": "FnPCPMG3jLFe",
        "colab": {
          "base_uri": "https://localhost:8080/"
        },
        "outputId": "ffa8d7c5-b51c-45cc-db48-ae5e2a1cb1b3"
      },
      "execution_count": 5,
      "outputs": [
        {
          "output_type": "stream",
          "name": "stdout",
          "text": [
            "[1, 2, 3, 4, 5, 8]\n",
            "[2, 3, 8]\n",
            "[1, 2, 3, 5, 6, 7, 8, 9, 11, 17]\n",
            "[1, 2, 3, 4, 5, 8, 10, 15, 16, 19, 20, 30]\n"
          ]
        }
      ]
    }
  ]
}